{
 "cells": [
  {
   "cell_type": "markdown",
   "metadata": {
    "id": "fw_CSA8lOFYZ"
   },
   "source": [
    "## Лабораторна робота 4. **REGRESSION** 📈"
   ]
  },
  {
   "cell_type": "markdown",
   "metadata": {
    "id": "IeMC6xnfOFYa"
   },
   "source": [
    "# Опис вибірки \"Motorbike Ambulance Calls\""
   ]
  },
  {
   "cell_type": "markdown",
   "metadata": {
    "id": "kWTcPp7HOFYb"
   },
   "source": [
    "\n",
    "Аварії за участю мотоциклів та відповідні виклики швидкої допомоги сильно залежать від екологічних та сезонних умов, таких як погодні умови, опади, день тижня, сезон, година дня тощо. Дані збирались протягом двох років щогодини та потім співвідносилися з відповідною погодою та сезонністю."
   ]
  },
  {
   "cell_type": "markdown",
   "metadata": {
    "id": "YtPLqroLOFYc"
   },
   "source": [
    "Основні характеристики вибірки `motorbike_ambulance_calls.csv`:\n",
    "\n",
    "              - index: record index\n",
    "              - date : date\n",
    "              - season : season (1:springer, 2:summer, 3:fall, 4:winter)\n",
    "              - yr : year (0: 2011, 1:2012)\n",
    "              - mnth : month ( 1 to 12)\n",
    "              - hr : hour (0 to 23)\n",
    "              - holiday : whether day is holiday or not\n",
    "              - weekday : day of the week\n",
    "              - workingday : if day is neither weekend nor holiday is 1, otherwise is 0.\n",
    "              -  weathersit :\n",
    "                      - 1: Clear, Few clouds, Partly cloudy, Partly cloudy\n",
    "                      - 2: Mist + Cloudy, Mist + Broken clouds, Mist + Few clouds, Mist\n",
    "                      - 3: Light Snow, Light Rain + Thunderstorm + Scattered clouds, Light Rain + Scattered clouds\n",
    "                      - 4: Heavy Rain + Ice Pallets + Thunderstorm + Mist, Snow + Fog\n",
    "              - temp : Normalized temperature in Celsius. The values are divided to 41 (max)\n",
    "              - atemp: Normalized feeling temperature in Celsius. The values are divided to 50 (max)\n",
    "              - hum: Normalized humidity. The values are divided to 100 (max)\n",
    "              - windspeed: Normalized wind speed. The values are divided to 67 (max)\n",
    "              - cnt: count of total ambulance calls"
   ]
  },
  {
   "cell_type": "markdown",
   "metadata": {
    "id": "LYXSslcIOFYc"
   },
   "source": [
    "## Імпорт необхідних бібліотек та завантаження даних"
   ]
  },
  {
   "cell_type": "markdown",
   "metadata": {
    "id": "pTFWHvM6OFYc"
   },
   "source": [
    "**Завдання 1** підготовка даних до опрацювання\n",
    "\n",
    "1. завантажте вибірку `motorbike_ambulance_calls.csv`;   \n",
    "2. підключіть необхідні бібліотеки;  \n",
    "3. вивести основну статистичну інформацію по числовим змінним;  \n",
    "4. окремо вивести максимальні та мінімальні значення по всім змінним;  \n",
    "5. вивести розмірність датасету;"
   ]
  },
  {
   "cell_type": "code",
   "execution_count": 44,
   "metadata": {
    "id": "xmwhs0cnOFYd"
   },
   "outputs": [
    {
     "name": "stdout",
     "output_type": "stream",
     "text": [
      "   index    date  season  yr  mnth  hr  holiday  weekday  workingday  \\\n",
      "0      1  1/1/11  spring   0     1   0        0        6           0   \n",
      "1      2  1/1/11  spring   0     1   1        0        6           0   \n",
      "2      3  1/1/11  spring   0     1   2        0        6           0   \n",
      "3      4  1/1/11  spring   0     1   3        0        6           0   \n",
      "4      5  1/1/11  spring   0     1   4        0        6           0   \n",
      "5      6  1/1/11  spring   0     1   5        0        6           0   \n",
      "6      7  1/1/11  spring   0     1   6        0        6           0   \n",
      "7      8  1/1/11  spring   0     1   7        0        6           0   \n",
      "8      9  1/1/11  spring   0     1   8        0        6           0   \n",
      "9     10  1/1/11  spring   0     1   9        0        6           0   \n",
      "\n",
      "   weathersit  temp   atemp   hum  windspeed  cnt  \n",
      "0           1  0.24  0.2879  0.81     0.0000   16  \n",
      "1           1  0.22  0.2727  0.80     0.0000   40  \n",
      "2           1  0.22  0.2727  0.80     0.0000   32  \n",
      "3           1  0.24  0.2879  0.75     0.0000   13  \n",
      "4           1  0.24  0.2879  0.75     0.0000    1  \n",
      "5           2  0.24  0.2576  0.75     0.0896    1  \n",
      "6           1  0.22  0.2727  0.80     0.0000    2  \n",
      "7           1  0.20  0.2576  0.86     0.0000    3  \n",
      "8           1  0.24  0.2879  0.75     0.0000    8  \n",
      "9           1  0.32  0.3485  0.76     0.0000   14   \n",
      "\n",
      "\n",
      "Max in column index is 17379 and min is 1\n",
      "Max in column date is 9/9/12 and min is 1/1/11\n",
      "Max in column season is winter and min is autumn\n",
      "Max in column yr is 1 and min is 0\n",
      "Max in column mnth is 12 and min is 1\n",
      "Max in column hr is 23 and min is 0\n",
      "Max in column holiday is 1 and min is 0\n",
      "Max in column weekday is 6 and min is 0\n",
      "Max in column workingday is 1 and min is 0\n",
      "Max in column weathersit is 4 and min is 1\n",
      "Max in column temp is 1.0 and min is 0.02\n",
      "Max in column atemp is 1.0 and min is 0.0\n",
      "Max in column hum is 1.0 and min is 0.0\n",
      "Max in column windspeed is 0.8507 and min is 0.0\n",
      "Max in column cnt is 977 and min is 1\n",
      "\n",
      "Dataset size is (17379, 15)\n",
      "\n",
      "\n",
      "Dataset stats: \n",
      "            index            yr          mnth            hr       holiday  \\\n",
      "count  17379.0000  17379.000000  17379.000000  17379.000000  17379.000000   \n",
      "mean    8690.0000      0.502561      6.537775     11.546752      0.028770   \n",
      "std     5017.0295      0.500008      3.438776      6.914405      0.167165   \n",
      "min        1.0000      0.000000      1.000000      0.000000      0.000000   \n",
      "25%     4345.5000      0.000000      4.000000      6.000000      0.000000   \n",
      "50%     8690.0000      1.000000      7.000000     12.000000      0.000000   \n",
      "75%    13034.5000      1.000000     10.000000     18.000000      0.000000   \n",
      "max    17379.0000      1.000000     12.000000     23.000000      1.000000   \n",
      "\n",
      "            weekday    workingday    weathersit          temp         atemp  \\\n",
      "count  17379.000000  17379.000000  17379.000000  17379.000000  17379.000000   \n",
      "mean       3.003683      0.682721      1.425283      0.496987      0.475775   \n",
      "std        2.005771      0.465431      0.639357      0.192556      0.171850   \n",
      "min        0.000000      0.000000      1.000000      0.020000      0.000000   \n",
      "25%        1.000000      0.000000      1.000000      0.340000      0.333300   \n",
      "50%        3.000000      1.000000      1.000000      0.500000      0.484800   \n",
      "75%        5.000000      1.000000      2.000000      0.660000      0.621200   \n",
      "max        6.000000      1.000000      4.000000      1.000000      1.000000   \n",
      "\n",
      "                hum     windspeed           cnt  \n",
      "count  17379.000000  17379.000000  17379.000000  \n",
      "mean       0.627229      0.190098    189.463088  \n",
      "std        0.192930      0.122340    181.387599  \n",
      "min        0.000000      0.000000      1.000000  \n",
      "25%        0.480000      0.104500     40.000000  \n",
      "50%        0.630000      0.194000    142.000000  \n",
      "75%        0.780000      0.253700    281.000000  \n",
      "max        1.000000      0.850700    977.000000  \n"
     ]
    }
   ],
   "source": [
    "import pandas as pd\n",
    "import numpy as np\n",
    "import scipy as sc\n",
    "from sklearn.model_selection import train_test_split\n",
    "from sklearn.linear_model import LinearRegression\n",
    "from sklearn.metrics import mean_squared_error, r2_score\n",
    "import matplotlib.pyplot as plt\n",
    "import seaborn as sns\n",
    "%matplotlib inline\n",
    "\n",
    "dataset = pd.read_csv(\"./motorbike_ambulance_calls.csv\")\n",
    "\n",
    "summary_stats = dataset.describe()\n",
    "headers = dataset.columns.tolist()\n",
    "dataset_size = dataset.shape\n",
    "\n",
    "print(dataset.head(10), \"\\n\\n\")\n",
    "\n",
    "for column in headers:\n",
    "    max_in_column = dataset[column].max()\n",
    "    min_in_column = dataset[column].min()\n",
    "    print(f\"Max in column {column} is {max_in_column} and min is {min_in_column}\")\n",
    "\n",
    "print(f\"\\nDataset size is {dataset_size}\")\n",
    "print(f\"\\n\\nDataset stats: \\n{summary_stats}\")"
   ]
  },
  {
   "cell_type": "markdown",
   "metadata": {
    "id": "Ky9g0TdPOFYd"
   },
   "source": [
    "**Завдання 2** перевірити типи даних та перевірте кількість даних по кожній змінній."
   ]
  },
  {
   "cell_type": "code",
   "execution_count": 45,
   "metadata": {
    "id": "5ofgwU6IOFYe"
   },
   "outputs": [
    {
     "name": "stdout",
     "output_type": "stream",
     "text": [
      "<class 'pandas.core.frame.DataFrame'>\n",
      "RangeIndex: 17379 entries, 0 to 17378\n",
      "Data columns (total 15 columns):\n",
      " #   Column      Non-Null Count  Dtype  \n",
      "---  ------      --------------  -----  \n",
      " 0   index       17379 non-null  int64  \n",
      " 1   date        17379 non-null  object \n",
      " 2   season      17379 non-null  object \n",
      " 3   yr          17379 non-null  int64  \n",
      " 4   mnth        17379 non-null  int64  \n",
      " 5   hr          17379 non-null  int64  \n",
      " 6   holiday     17379 non-null  int64  \n",
      " 7   weekday     17379 non-null  int64  \n",
      " 8   workingday  17379 non-null  int64  \n",
      " 9   weathersit  17379 non-null  int64  \n",
      " 10  temp        17379 non-null  float64\n",
      " 11  atemp       17379 non-null  float64\n",
      " 12  hum         17379 non-null  float64\n",
      " 13  windspeed   17379 non-null  float64\n",
      " 14  cnt         17379 non-null  int64  \n",
      "dtypes: float64(4), int64(9), object(2)\n",
      "memory usage: 2.0+ MB\n",
      "None\n"
     ]
    }
   ],
   "source": [
    "print(dataset.info())"
   ]
  },
  {
   "cell_type": "markdown",
   "metadata": {
    "id": "DINUFxTsOFYe"
   },
   "source": [
    "**Завдання 3** пепевірте всі змінні на наявність пропусків."
   ]
  },
  {
   "cell_type": "code",
   "execution_count": 46,
   "metadata": {
    "id": "PFa4iiowOFYe"
   },
   "outputs": [
    {
     "name": "stdout",
     "output_type": "stream",
     "text": [
      "index         0\n",
      "date          0\n",
      "season        0\n",
      "yr            0\n",
      "mnth          0\n",
      "hr            0\n",
      "holiday       0\n",
      "weekday       0\n",
      "workingday    0\n",
      "weathersit    0\n",
      "temp          0\n",
      "atemp         0\n",
      "hum           0\n",
      "windspeed     0\n",
      "cnt           0\n",
      "dtype: int64\n"
     ]
    }
   ],
   "source": [
    "missing_values = dataset.isna().sum()\n",
    "\n",
    "print(missing_values)"
   ]
  },
  {
   "cell_type": "markdown",
   "metadata": {
    "id": "fJadTHp_PfVK"
   },
   "source": [
    "**Висновки з 1-3 завдання (детальні)**"
   ]
  },
  {
   "cell_type": "markdown",
   "metadata": {},
   "source": [
    "Я так багато написав в 1. тому що пропустив опис датасету."
   ]
  },
  {
   "cell_type": "markdown",
   "metadata": {
    "id": "917TbDlJPuRO"
   },
   "source": [
    "\n",
    "\n",
    "1.  Працюємо з даними де date задана строкою. Колонка yr має лише 2 значення: 0 та 1, відповідно до першого та другого року збору даних. Місяць рахується від 1, а не від 0. Година в 24-годинному форматі. Holiday колонка має значення 0 та 1, відповідно позначаючи false і true. Weekday - дні тижня індексацією. workingday - 0 та 1, false та true відповідно, позначаючи чи робочий день. weathersit - значення від 0 до 4 вказують наскільки погані погодні умови, 0 будучи найкращими, а 4 - найгіршими. temp - між 0.02 та 1, вказує на темпаратуру, зведену до проміжку даного проміжку. atemp - від 0 до 1 вказує на те, як відчувається темпаратура. hum - від 0 до 1 вказує на вологість повітря. windspeed - між 0.0 та 0.8507 вказує на швидкість вітру.\n",
    "2. Не враховуючи змінну index у нас 14 колонок, з яких 12 - числові. \n",
    "3. В даному датасеті немає пропущених значень в жодній з колонок.\n",
    "\n"
   ]
  },
  {
   "cell_type": "markdown",
   "metadata": {
    "id": "x-vbKqLdOFYf"
   },
   "source": [
    "**Завдання 4** перетворіть змінну `date` в **date type**. Визначте часові межі датасету."
   ]
  },
  {
   "cell_type": "code",
   "execution_count": 47,
   "metadata": {
    "id": "fvpiaJGaOFYf"
   },
   "outputs": [],
   "source": [
    "def tranform_date(df: pd.DataFrame, date_col_name: str):\n",
    "  df[date_col_name] = pd.to_datetime(df[date_col_name], format='%m/%d/%y')\n",
    "  return df\n",
    "  \n",
    "dataset = tranform_date(dataset, 'date')"
   ]
  },
  {
   "cell_type": "code",
   "execution_count": 48,
   "metadata": {
    "id": "Er6MX_qXW7mF"
   },
   "outputs": [
    {
     "name": "stdout",
     "output_type": "stream",
     "text": [
      "First day of dataset - 2011-01-01 00:00:00.\n",
      "Last day of dataset - 2012-12-31 00:00:00\n"
     ]
    }
   ],
   "source": [
    "def get_time_limits(df: pd.DataFrame, date_col_name: str):\n",
    "  first_day = df[date_col_name].min()\n",
    "  last_day = df[date_col_name].max()\n",
    "  print(f\"First day of dataset - {first_day}.\\nLast day of dataset - {last_day}\")\n",
    "\n",
    "get_time_limits(dataset, 'date')"
   ]
  },
  {
   "cell_type": "markdown",
   "metadata": {
    "id": "bCq7E5z7OFYf"
   },
   "source": [
    "Тепер відомо що працюємо з даними від 1 січня 2011 року, до 31 грудня 2012 року."
   ]
  },
  {
   "cell_type": "markdown",
   "metadata": {
    "id": "hNQ7h5iuOFYf"
   },
   "source": [
    "**Завдання 5** виділити категоріальні змінні в окремий датасет\n",
    "\n",
    "\n",
    "\n",
    "\n",
    "\n"
   ]
  },
  {
   "cell_type": "code",
   "execution_count": 49,
   "metadata": {
    "id": "JY8QiSCcOFYg"
   },
   "outputs": [],
   "source": [
    "columns_to_add = ['season', 'mnth', 'hr', 'holiday', 'weekday', 'workingday', 'weathersit']\n",
    "data_categorical = dataset[columns_to_add].copy()"
   ]
  },
  {
   "cell_type": "markdown",
   "metadata": {
    "id": "2fiDriKxOFYg"
   },
   "source": [
    "**Завдання 6** перетворіть змінну `season` в числову шкалу."
   ]
  },
  {
   "cell_type": "code",
   "execution_count": 50,
   "metadata": {
    "id": "SCIk-1AMRDqH"
   },
   "outputs": [],
   "source": [
    "season_to_numeric = {\"spring\": 0, \"summer\": 1, \"autumn\": 2, \"winter\": 3}\n",
    "\n",
    "def encode_season(df: pd.DataFrame, season_col_name: str):\n",
    "  df[season_col_name] = dataset[season_col_name].map(season_to_numeric)\n",
    "  return df\n",
    "  \n",
    "data = encode_season(dataset, 'season')"
   ]
  },
  {
   "cell_type": "markdown",
   "metadata": {
    "id": "RPORQyRoOFYg"
   },
   "source": [
    "**Завдання 7** побудувати графіки `countplot` по всім категоріальним змінним"
   ]
  },
  {
   "cell_type": "code",
   "execution_count": 53,
   "metadata": {
    "id": "nnBYo2YrOFYh",
    "scrolled": false
   },
   "outputs": [
    {
     "data": {
      "image/png": "[encoded data removed]",
      "text/plain": [
       "<Figure size 1440x720 with 8 Axes>"
      ]
     },
     "metadata": {
      "needs_background": "light"
     },
     "output_type": "display_data"
    }
   ],
   "source": [
    "fig, ax = plt.subplots(2, 4, figsize=(20, 10))\n",
    "for variable, subplot in zip(data_categorical, ax.flatten()):\n",
    "  sns.countplot(x=variable, data=data_categorical, ax=subplot)\n",
    "\n",
    "plt.show()"
   ]
  },
  {
   "cell_type": "code",
   "execution_count": 55,
   "metadata": {},
   "outputs": [
    {
     "name": "stdout",
     "output_type": "stream",
     "text": [
      "    season  mnth  hr  holiday  weekday  workingday  weathersit\n",
      "0   spring     1   0        0        6           0           1\n",
      "1   spring     1   1        0        6           0           1\n",
      "2   spring     1   2        0        6           0           1\n",
      "3   spring     1   3        0        6           0           1\n",
      "4   spring     1   4        0        6           0           1\n",
      "5   spring     1   5        0        6           0           2\n",
      "6   spring     1   6        0        6           0           1\n",
      "7   spring     1   7        0        6           0           1\n",
      "8   spring     1   8        0        6           0           1\n",
      "9   spring     1   9        0        6           0           1\n",
      "10  spring     1  10        0        6           0           1\n",
      "11  spring     1  11        0        6           0           1\n",
      "12  spring     1  12        0        6           0           1\n",
      "13  spring     1  13        0        6           0           2\n",
      "14  spring     1  14        0        6           0           2\n",
      "15  spring     1  15        0        6           0           2\n",
      "16  spring     1  16        0        6           0           2\n",
      "17  spring     1  17        0        6           0           2\n",
      "18  spring     1  18        0        6           0           3\n",
      "19  spring     1  19        0        6           0           3\n",
      "20  spring     1  20        0        6           0           2\n",
      "21  spring     1  21        0        6           0           2\n",
      "22  spring     1  22        0        6           0           2\n",
      "23  spring     1  23        0        6           0           2\n",
      "24  spring     1   0        0        0           0           2\n",
      "25  spring     1   1        0        0           0           2\n",
      "26  spring     1   2        0        0           0           2\n",
      "27  spring     1   3        0        0           0           2\n",
      "28  spring     1   4        0        0           0           2\n",
      "29  spring     1   6        0        0           0           3\n",
      "30  spring     1   7        0        0           0           2\n",
      "31  spring     1   8        0        0           0           3\n",
      "32  spring     1   9        0        0           0           2\n",
      "33  spring     1  10        0        0           0           2\n",
      "34  spring     1  11        0        0           0           2\n",
      "35  spring     1  12        0        0           0           2\n",
      "36  spring     1  13        0        0           0           2\n",
      "37  spring     1  14        0        0           0           3\n",
      "38  spring     1  15        0        0           0           3\n",
      "39  spring     1  16        0        0           0           3\n",
      "40  spring     1  17        0        0           0           1\n",
      "41  spring     1  18        0        0           0           2\n",
      "42  spring     1  19        0        0           0           1\n",
      "43  spring     1  20        0        0           0           1\n",
      "44  spring     1  21        0        0           0           1\n",
      "45  spring     1  22        0        0           0           1\n",
      "46  spring     1  23        0        0           0           1\n",
      "47  spring     1   0        0        1           1           1\n",
      "48  spring     1   1        0        1           1           1\n",
      "49  spring     1   4        0        1           1           1\n"
     ]
    }
   ],
   "source": [
    "print(data_categorical.head(50))"
   ]
  },
  {
   "cell_type": "markdown",
   "metadata": {
    "id": "Rx8E_9EXRbWF"
   },
   "source": [
    "**Висновки з 5-7 завдання (детальні)**"
   ]
  },
  {
   "cell_type": "markdown",
   "metadata": {
    "id": "2Nu4VpZPRbWP"
   },
   "source": [
    "\n",
    "\n",
    "1. Половина колонок в датасеті - категоріальні. \n",
    "2. Немає прямого звʼязку між кількістю аварій та порою року.\n",
    "3. Немає сильного звяʼзку між кількістю аварій та місяцем.\n",
    "4. Помітно що від 3 до 4 години найменше аварій, ймовірно звʼязано з меншою кількістю транспорту на дорозі.\n",
    "5. Немає звяʼзку між кількістю аварій та днем тижня.\n",
    "6. Більше аварій в робочий день, але робочих днів загалом більше тому це не вказує ні на що.\n",
    "7. Чим гірша погода тим менша кількість аварій, але це також не вказує ні на що адже днів з хорошою погодою більше.\n",
    "\n"
   ]
  },
  {
   "cell_type": "markdown",
   "metadata": {
    "id": "MPRBUU2HRmId"
   },
   "source": [
    "#Аналіз числових змінних"
   ]
  },
  {
   "cell_type": "markdown",
   "metadata": {
    "id": "PfHcV5tIOFYh"
   },
   "source": [
    "**Завдання 8** виділити числові змінні в окремий датасет"
   ]
  },
  {
   "cell_type": "code",
   "execution_count": 67,
   "metadata": {
    "id": "GgCMFLdjOFYh"
   },
   "outputs": [],
   "source": [
    "columns_to_add = ['season', 'yr', 'mnth', 'hr', 'holiday', 'weekday', 'workingday', 'weathersit', 'temp', 'atemp', 'hum', 'windspeed', 'cnt']\n",
    "data_numerical = dataset[columns_to_add].copy()"
   ]
  },
  {
   "cell_type": "markdown",
   "metadata": {
    "id": "RoA2FaycOFYi"
   },
   "source": [
    "**Завдання 9** побудуйте гістограми розподілу по всім числовим змінним"
   ]
  },
  {
   "cell_type": "code",
   "execution_count": 77,
   "metadata": {
    "id": "KYYglRPzOFYi",
    "scrolled": false
   },
   "outputs": [
    {
     "data": {
      "image/png": "[encoded data removed]",
      "text/plain": [
       "<Figure size 1440x720 with 15 Axes>"
      ]
     },
     "metadata": {
      "needs_background": "light"
     },
     "output_type": "display_data"
    }
   ],
   "source": [
    "fig, ax = plt.subplots(5, 3, figsize=(20, 10))\n",
    "for variable, subplot in zip(data_numerical, ax.flatten()):\n",
    "  sns.histplot(x=variable, data=data_numerical, ax=subplot)\n",
    "\n",
    "plt.show()"
   ]
  },
  {
   "cell_type": "markdown",
   "metadata": {
    "id": "j2i-eYdpOFYi"
   },
   "source": [
    "**Завдання 10** побудуйте гістограму розподілу цільової змінної та розрахуйте коефіціент нахилу"
   ]
  },
  {
   "cell_type": "code",
   "execution_count": 79,
   "metadata": {
    "id": "FXcXUEGPOFYi"
   },
   "outputs": [
    {
     "data": {
      "image/png": "[encoded data removed]",
      "text/plain": [
       "<Figure size 432x288 with 1 Axes>"
      ]
     },
     "metadata": {
      "needs_background": "light"
     },
     "output_type": "display_data"
    },
    {
     "name": "stdout",
     "output_type": "stream",
     "text": [
      "Coeficients: [-283.34214079   20.96417116    6.48958323  363.97583319]\n",
      "Intercept: 173.05739711709512\n"
     ]
    }
   ],
   "source": [
    "sns.histplot(data=dataset, x='cnt', bins=20)\n",
    "plt.title('Distribution of Target Variable')\n",
    "plt.xlabel('Target Variable')\n",
    "plt.ylabel('Frequency')\n",
    "plt.show()\n",
    "\n",
    "X = dataset[['hum', 'windspeed', \"weathersit\", \"temp\"]]\n",
    "y = dataset['cnt']\n",
    "model = LinearRegression()\n",
    "model.fit(X, y)\n",
    "slope_coefficients = model.coef_\n",
    "intercept = model.intercept_\n",
    "\n",
    "print(f\"Coeficients: {slope_coefficients}\\nIntercept: {intercept}\")"
   ]
  },
  {
   "cell_type": "markdown",
   "metadata": {},
   "source": []
  },
  {
   "cell_type": "markdown",
   "metadata": {
    "id": "FMaDSFrySVnk"
   },
   "source": [
    "**Висновки з 8-10 завдання (детальні)**"
   ]
  },
  {
   "cell_type": "markdown",
   "metadata": {
    "id": "MxYx4wDLSVnu"
   },
   "source": [
    "\n",
    "\n",
    "1.   \n",
    "2.   \n",
    "3. ...\n",
    "\n"
   ]
  },
  {
   "cell_type": "markdown",
   "metadata": {
    "id": "tW6lRMmXSe37"
   },
   "source": [
    "#Аналіз взаємозв'язків між числовими і категоріальними змінними"
   ]
  },
  {
   "cell_type": "markdown",
   "metadata": {
    "id": "SVUUZyAMOFYj"
   },
   "source": [
    "**Завдання 11** побудуйте графіки співвідношення `scatterplot` між всіма числовими змінними і цільовою змінною `cnt`"
   ]
  },
  {
   "cell_type": "code",
   "execution_count": null,
   "metadata": {
    "id": "Mq59RzhGOFYj"
   },
   "outputs": [],
   "source": [
    "fig, ax = plt.subplots(2,2, figsize=(15, 10))\n",
    "for var, subplot in zip(data_numerical.drop('cnt', axis =1), ax.flatten()):\n",
    "  #your code"
   ]
  },
  {
   "cell_type": "markdown",
   "metadata": {
    "id": "y_fW_ZqCOFYj"
   },
   "source": [
    "**Завдання 12** побудуйте графіки співвідношення `boxplot`[boxplot](https://matplotlib.org/stable/gallery/statistics/boxplot_demo.html) між категоріальними змінними і цільовою змінною `cnt`."
   ]
  },
  {
   "cell_type": "code",
   "execution_count": null,
   "metadata": {
    "id": "S3TxCC3XOFYj"
   },
   "outputs": [],
   "source": [
    "fig, ax = plt.subplots(2, 4, figsize=(20, 10))\n",
    "for var, subplot in zip(data_categorical, ax.flatten()):\n",
    "  #your code"
   ]
  },
  {
   "cell_type": "markdown",
   "metadata": {
    "id": "g2Ry5dgQTMeG"
   },
   "source": [
    "**Висновки з 11-12 завдання (детальні)**"
   ]
  },
  {
   "cell_type": "markdown",
   "metadata": {
    "id": "tWtJbT5sTMeS"
   },
   "source": [
    "\n",
    "\n",
    "1.   \n",
    "2.   \n",
    "3. ...\n",
    "\n"
   ]
  },
  {
   "cell_type": "markdown",
   "metadata": {
    "id": "pp7mUJyUOFYj"
   },
   "source": [
    "**Завдання 13** Побудувати матрицю кореляції:  \n",
    "\n",
    "1.   Вирахувати кореляційні коефіціенти для набору данних за методом Пірсона\n",
    "2.   Відобразити отриману матрицю коефіціентів у вигляді теплокарти  \n",
    "3.   Вирахувати кореляційні коефіціенти для набору данних за методом Спірмана\n",
    "4.   Відобразити отриману матрицю коефіціентів у вигляді теплокарти\n",
    "\n",
    "5. Описати отримані результати, спираючись на значення коефіціентів кореляції та пояснити в чому відмінність обраних методів."
   ]
  },
  {
   "cell_type": "code",
   "execution_count": null,
   "metadata": {
    "id": "H_jTQTC9OFYk"
   },
   "outputs": [],
   "source": [
    "#your code"
   ]
  },
  {
   "cell_type": "code",
   "execution_count": null,
   "metadata": {
    "id": "ZsJyxSauOFYk"
   },
   "outputs": [],
   "source": [
    "#your conclusions "
   ]
  },
  {
   "cell_type": "markdown",
   "metadata": {
    "id": "f_DldEV1OFYk"
   },
   "source": [
    "**Завдання 14** \n",
    "1. побудувати модель лінійної регресії:\n",
    "2. видалити змінні, які НЕ є релевантними;\n",
    "\n",
    "3. поділити вибірку на `train`, `test` та `validation` в пропорції `70/30`;  \n",
    "\n",
    "4. провести навчання моделі лінійної регресії;"
   ]
  },
  {
   "cell_type": "markdown",
   "metadata": {
    "id": "NIcZXn-wUmJL"
   },
   "source": [
    "1. Для подальшої роботи з моделями для кожної категоріальної змінної ми створимо фіктивні змінні, щоб уникнути неправильного порядку категорій. [get_dummies](https://pandas.pydata.org/pandas-docs/stable/reference/api/pandas.get_dummies.html)"
   ]
  },
  {
   "cell_type": "code",
   "execution_count": null,
   "metadata": {
    "id": "l7LAkoqcOFYk"
   },
   "outputs": [],
   "source": [
    "def get_dummies(df: pd.DataFrame):\n",
    "  features = pd.concat([df,\n",
    "                      # example:\n",
    "                      pd.get_dummies(df['season']),\n",
    "                      #YOUR CODE\n",
    "                      ], axis = 1\n",
    "                     )\n",
    "  features = features.drop(['season',\n",
    "                            'mnth', \n",
    "                            'weekday', \n",
    "                            'weathersit'\n",
    "                            ], axis = 1)\n",
    "  return fetures"
   ]
  },
  {
   "cell_type": "code",
   "execution_count": null,
   "metadata": {
    "id": "Va2Y_GFfOFYk"
   },
   "outputs": [],
   "source": [
    "features = get_dummies(data)"
   ]
  },
  {
   "cell_type": "markdown",
   "metadata": {
    "id": "GyDiLOCwarGI"
   },
   "source": [
    "2. На основі змінної часу створіть нову змінну, яка відповідатиме за день і ніч."
   ]
  },
  {
   "cell_type": "code",
   "execution_count": null,
   "metadata": {
    "id": "G1w36q_jauUE"
   },
   "outputs": [],
   "source": [
    "features['night_hours'] = #your code\n",
    "features = features.drop('hr', axis = 1)"
   ]
  },
  {
   "cell_type": "markdown",
   "metadata": {
    "id": "V9I2zAKpbWGB"
   },
   "source": [
    "**Модель лінійної регрессії  \n",
    "\n",
    "[train_linear_model](https://scikit-learn.org/stable/modules/generated/sklearn.linear_model.LinearRegression.html)"
   ]
  },
  {
   "cell_type": "markdown",
   "metadata": {
    "id": "W4gkM20abtHh"
   },
   "source": [
    "Після отримання фіктивних змінних потрібно видалити по одній з кожної категорії, щоб запобігти мультиколінеарності. Також видаляємо ще два атрибути `date` та `atemp` - поясніть чому?"
   ]
  },
  {
   "cell_type": "code",
   "execution_count": null,
   "metadata": {
    "id": "lLQK9t5eb81Q"
   },
   "outputs": [],
   "source": [
    "features_lr = features.drop(['spring', 'mnth_4', 'weekday_0', 'weathersit_1', 'hr_0','atemp', 'date'], axis = 1)"
   ]
  },
  {
   "cell_type": "code",
   "execution_count": null,
   "metadata": {
    "id": "IUPl4bsCc0_G"
   },
   "outputs": [],
   "source": [
    "def get_train_data(df: pd.DataFrame, target:str, test_size:float):\n",
    "  X = #your code (all features)\n",
    "  y = #your code (target variable)\n",
    "  X_train, X_test, y_train, y_test =  train_test_split(X, y, test_size=test_size, random_state=42, shuffle = True)\n",
    "  return X_train, X_test, y_train, y_test"
   ]
  },
  {
   "cell_type": "code",
   "execution_count": null,
   "metadata": {
    "id": "Kf2GXp0Odr1w"
   },
   "outputs": [],
   "source": [
    "X_train, X_test, y_train, y_test = get_train_data(features_lr, 'cnt', 0.3)"
   ]
  },
  {
   "cell_type": "code",
   "execution_count": null,
   "metadata": {
    "id": "wFEgPbUHeUTh"
   },
   "outputs": [],
   "source": [
    "def train_linear_model(X_train, y_train):\n",
    "  model = LinearRegression()\n",
    "  model.fit(X_train, y_train)\n",
    "  return model\n",
    "\n",
    "model = train_linear_model(X_train, y_train)"
   ]
  },
  {
   "cell_type": "code",
   "execution_count": null,
   "metadata": {
    "id": "Inc9iPCXfChd"
   },
   "outputs": [],
   "source": [
    "# predict\n",
    "y_train_pred = model.predict(X_train)\n",
    "y_test_pred = model.predict(X_test)\n",
    "# scores\n",
    "print('MSE train: {:.3f}, test: {:.3f}'.format(\n",
    "        mean_squared_error(y_train, y_train_pred),\n",
    "        mean_squared_error(y_test, y_test_pred)))\n",
    "print('R^2 train: {:.3f}, test: {:.3f}'.format(\n",
    "        r2_score(y_train, y_train_pred),\n",
    "        r2_score(y_test, y_test_pred)))"
   ]
  },
  {
   "cell_type": "markdown",
   "metadata": {
    "id": "ycH4zmgTf17J"
   },
   "source": [
    "Оскільки в нашій моделі є багато незалежних змінних, ми не можемо відобразити їх залежність у двовимірному просторі, але ми можемо побудувати графік взаємозв'язку між залишками моделі та передбачуваними значеннями, що також допоможе нам оцінити якість моделі."
   ]
  },
  {
   "cell_type": "code",
   "execution_count": null,
   "metadata": {
    "id": "8g0Q8AZ6f0mY"
   },
   "outputs": [],
   "source": [
    "plt.scatter(y_train_pred,  y_train_pred - y_train,\n",
    "            c='#5f93ad', marker='o', label='Training data')\n",
    "plt.scatter(y_test_pred,  y_test_pred - y_test,\n",
    "            c='#98c3d9', marker='s', label='Test data')\n",
    "plt.xlabel('Predicted values')\n",
    "plt.ylabel('Residuals')\n",
    "plt.legend(loc='upper left')\n",
    "plt.hlines(y=0, xmin=-220, xmax=1000, lw=2, color='#000000')\n",
    "plt.tight_layout()"
   ]
  },
  {
   "cell_type": "markdown",
   "metadata": {
    "id": "FhsJB-8WgM4d"
   },
   "source": [
    "**Висновки з завдання (детальні)**"
   ]
  },
  {
   "cell_type": "markdown",
   "metadata": {
    "id": "AKUUhjrxgM4e"
   },
   "source": [
    "\n",
    "\n",
    "1.   \n",
    "2.   \n",
    "3. ...\n",
    "\n"
   ]
  }
 ],
 "metadata": {
  "colab": {
   "name": "Task4_Regression_basicAI.ipynb",
   "provenance": []
  },
  "kernelspec": {
   "display_name": "Python 3 (ipykernel)",
   "language": "python",
   "name": "python3"
  },
  "language_info": {
   "codemirror_mode": {
    "name": "ipython",
    "version": 3
   },
   "file_extension": ".py",
   "mimetype": "text/x-python",
   "name": "python",
   "nbconvert_exporter": "python",
   "pygments_lexer": "ipython3",
   "version": "3.10.2"
  }
 },
 "nbformat": 4,
 "nbformat_minor": 4
}
