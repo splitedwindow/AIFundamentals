{
 "cells": [
  {
   "cell_type": "markdown",
   "metadata": {
    "id": "mfZcHsou4TSG"
   },
   "source": [
    "## Лабораторна робота 6. **Unsupervised Learning**"
   ]
  },
  {
   "cell_type": "markdown",
   "metadata": {
    "id": "cIAXraWX4TSQ"
   },
   "source": [
    "Оцінювання даної роботи буде ураховувати якість Ваших висновків та візуалізацій. При наявності ЛИШЕ коду та візуалізацій без роз'яснень, робота оцінюватися НЕ БУДЕ.  \n",
    "\n",
    "Більшість поставлених в цій лабораторній роботі задач в майбутньому буде ставитись Вами самойстійно!\n",
    "\n",
    "Під час виконання Вам дозволено користуватися будь-якими зручними для вас бібліотеками для візуалізації. \n",
    "\n",
    "Оформлення коментарів повинно проводитися в текстових комірках ноутбука з використанням синтаксису [LaTeX](https://en.wikibooks.org/wiki/LaTeX/Basics) для оформлення тексту та формул. \n",
    "\n",
    "Роботи ідентифіковані як ІДЕНТИЧНІ одразу отримують 0 балів."
   ]
  },
  {
   "cell_type": "markdown",
   "metadata": {
    "id": "Lpsweyzv4TSR"
   },
   "source": [
    "## Кластерування  \n",
    "\n",
    "В цій лабораторній роботі Ви будете вирішувати задачу класифікації БЕЗ вчителя. "
   ]
  },
  {
   "cell_type": "code",
   "execution_count": 2,
   "metadata": {
    "id": "ETpK_EXU4TSR"
   },
   "outputs": [],
   "source": [
    "from sklearn.cluster import KMeans\n",
    "from sklearn.cluster import AgglomerativeClustering \n",
    "from scipy.cluster import hierarchy \n",
    "from scipy.spatial import distance_matrix \n",
    "\n",
    "import numpy as np \n",
    "import pandas as pd\n",
    "import matplotlib.pyplot as plt\n",
    "import plotly.express as px\n",
    "import seaborn as sns\n",
    "%matplotlib inline \n",
    "\n",
    "import os\n",
    "import warnings\n",
    "\n",
    "\n",
    "warnings.filterwarnings('ignore')"
   ]
  },
  {
   "cell_type": "markdown",
   "metadata": {
    "id": "zdopYNRe4TSS"
   },
   "source": [
    "**Завдання 0** \n",
    "\n",
    "Для початку необхідно завантажити вибірку `Mall_Customers` і перейменувати атрибути `Annual Income (k$)` в `Income`,`Spending Score (1-100)` в `SpendingScore`"
   ]
  },
  {
   "cell_type": "code",
   "execution_count": 4,
   "metadata": {
    "id": "z9wqM0an4TSS"
   },
   "outputs": [
    {
     "name": "stdout",
     "output_type": "stream",
     "text": [
      "     CustomerID  Gender  Age  Annual Income (k$)  Spending Score (1-100)\n",
      "0             1    Male   19                  15                      39\n",
      "1             2    Male   21                  15                      81\n",
      "2             3  Female   20                  16                       6\n",
      "3             4  Female   23                  16                      77\n",
      "4             5  Female   31                  17                      40\n",
      "..          ...     ...  ...                 ...                     ...\n",
      "195         196  Female   35                 120                      79\n",
      "196         197  Female   45                 126                      28\n",
      "197         198    Male   32                 126                      74\n",
      "198         199    Male   32                 137                      18\n",
      "199         200    Male   30                 137                      83\n",
      "\n",
      "[200 rows x 5 columns]\n"
     ]
    }
   ],
   "source": [
    "customer_set = pd.read_csv(\"Mall_Customers.csv\")\n",
    "\n",
    "print(customer_set)"
   ]
  },
  {
   "cell_type": "markdown",
   "metadata": {
    "id": "3-eFDgek4TSS"
   },
   "source": [
    "**Завдання 1** \n",
    "\n",
    "Підготовка даних до опрацювання\n",
    "\n",
    "* подивитись які атрибути містить вибірка; \n",
    "* вивести розмірність датасету;\n",
    "* вивести основну статистичну інформацію по числовим змінним;  \n",
    "* перевірити на наявність `NaN`.   "
   ]
  },
  {
   "cell_type": "code",
   "execution_count": null,
   "metadata": {
    "id": "B7p72CWi4TST"
   },
   "outputs": [],
   "source": [
    "#yourCode"
   ]
  },
  {
   "cell_type": "markdown",
   "metadata": {
    "id": "65aS-QXQ4TST"
   },
   "source": [
    "## EDA Mall Customers"
   ]
  },
  {
   "cell_type": "markdown",
   "metadata": {
    "id": "7mBtcoPf4TST"
   },
   "source": [
    "**Завдання 2** \n",
    "\n",
    "Як Ви могли помітити по статистичній аналітиці вибірки вона містить змінну `CustomerID`. Ця змінна не впливає на аналіз даних тому її можна видалити."
   ]
  },
  {
   "cell_type": "code",
   "execution_count": null,
   "metadata": {
    "id": "kSVPVGKO4TSU"
   },
   "outputs": [],
   "source": [
    "#yourCode"
   ]
  },
  {
   "cell_type": "markdown",
   "metadata": {
    "id": "zEDPZAqM4TSU"
   },
   "source": [
    "**Завдання 3** \n",
    "\n",
    "Побудувати діаграми розподілу по змінним `Age` , `Income` та `SpendingScore`"
   ]
  },
  {
   "cell_type": "code",
   "execution_count": null,
   "metadata": {
    "id": "51CRjSYR4TSU"
   },
   "outputs": [],
   "source": [
    "#yourCode"
   ]
  },
  {
   "cell_type": "markdown",
   "metadata": {
    "id": "C5RC0rZN4TSU"
   },
   "source": [
    "**Завдання 4** \n",
    "\n",
    "Давайте подивимось на ці змінні `Age` , `Income` та `SpendingScore` відносно змінної `Gender`. \n",
    "* Побудуємо `pairplot` по всім змінним відностно змінної `Gender`:  \n",
    " \n",
    "* Побудуємо `pairplot` використовуючи `sns.PairGrid` із заданими `(scatterplot)`, `(kdeplot)` та `(kdeplot, lw=1)` по відповідно правому верхньому куту, діагоналі і лівому нижньому кутут відносно змінної `Gender`:  \n",
    " "
   ]
  },
  {
   "cell_type": "code",
   "execution_count": null,
   "metadata": {
    "id": "5gfob8rc4TSU"
   },
   "outputs": [],
   "source": [
    "#yourCode"
   ]
  },
  {
   "cell_type": "markdown",
   "metadata": {
    "id": "Cjcpwujr4TSV"
   },
   "source": [
    "**Висновки з 1-4 завдання (детальні)**"
   ]
  },
  {
   "cell_type": "markdown",
   "metadata": {
    "id": "iwfXWInJ4TSV"
   },
   "source": [
    "1.   \n",
    "2.   \n",
    "3. ..."
   ]
  },
  {
   "cell_type": "markdown",
   "metadata": {
    "id": "-xh6UwiQ4TSV"
   },
   "source": [
    "**Завдання 5** \n",
    "\n",
    "Проаналізувати змінну `Gender`:\n",
    "* вивести співвідношення по статям;\n",
    "* побудувати `countplot` по `Gender`;  \n",
    "* побудувати `pie`по `Gender'.  "
   ]
  },
  {
   "cell_type": "code",
   "execution_count": null,
   "metadata": {
    "id": "fB-jtWvy4TSV"
   },
   "outputs": [],
   "source": [
    "#yourCode"
   ]
  },
  {
   "cell_type": "markdown",
   "metadata": {
    "id": "KfFfWN5S4TSW"
   },
   "source": [
    "**Завдання 6** \n",
    "\n",
    "Побудувати гістограми [histplot](https://seaborn.pydata.org/generated/seaborn.histplot.html) змінних `Age` та `Income` відносно змінної `Gender` з різними параметрами:\n",
    "*  подивитись на скільки змінюється візуалізація при різних значеннях параметра `multiple`, наприклад `dodge` та `layer`."
   ]
  },
  {
   "cell_type": "code",
   "execution_count": null,
   "metadata": {
    "id": "UL4LYjfG4TSW"
   },
   "outputs": [],
   "source": [
    "#yourCode"
   ]
  },
  {
   "cell_type": "markdown",
   "metadata": {
    "id": "j53TlSH14TSW"
   },
   "source": [
    "**Завдання 7** \n",
    "\n",
    "Побудувати гістограми [histplot](https://seaborn.pydata.org/generated/seaborn.histplot.html) змінної `SpendingScore` відносно змінної `Gender` з різними параметрами:  \n",
    "* подивитись на скільки змінюється візуалізація при різних значеннях параметра `multiple`, наприклад `dodge` та `layer`. \n",
    "\n"
   ]
  },
  {
   "cell_type": "code",
   "execution_count": null,
   "metadata": {
    "id": "uy3z8Bwe4TSX"
   },
   "outputs": [],
   "source": [
    "#yourCode"
   ]
  },
  {
   "cell_type": "markdown",
   "metadata": {
    "id": "xsq41obt4TSX"
   },
   "source": [
    "**Завдання 8** \n",
    "\n",
    "Побудувати `boxplot` по змінній `SpendingScore` і подивитись як відрізняються витрати відностно змінної `Gender`. "
   ]
  },
  {
   "cell_type": "code",
   "execution_count": null,
   "metadata": {
    "id": "CCmlneOA4TSX"
   },
   "outputs": [],
   "source": [
    "#yourCode"
   ]
  },
  {
   "cell_type": "markdown",
   "metadata": {
    "id": "xmxGHifX4TSW"
   },
   "source": [
    "**Висновки з завдання 5 - 8(детальні)**"
   ]
  },
  {
   "cell_type": "markdown",
   "metadata": {
    "id": "thxjHOvx4TSW"
   },
   "source": [
    "1.   Яке співвідношення груп чоловіків та жінок?\n",
    "2.  Подивитись які можна виділити групи і як розподілені витрати відностно статі людини? \n",
    "3. Чи є різниця між витратами у чоловіків та жінок?\n",
    "4. ..."
   ]
  },
  {
   "cell_type": "markdown",
   "metadata": {
    "id": "dfVNEoZP4TSX"
   },
   "source": [
    "## K-means Method ##"
   ]
  },
  {
   "cell_type": "markdown",
   "metadata": {
    "id": "be2FdcU_4TSX"
   },
   "source": [
    "**Завдання 9** \n",
    "\n",
    "Як Ви могли помітити, вибірка, з якою ми працюємо, не містить ключової зміної з вірними мітками. Тому перед початком кластерування необхідно визначити (підібрати) оптимальну кількість кластерів на яке буде проведено розбиття. Для цього необхідно:\n",
    "1. видалити змінну `Gender`, тому що ... **Чому?**;  \n",
    "2. задати мінімальну та максимальну кількість кластерів самостійно;  \n",
    "3. На прикладі алгоритму [KMeans](https://scikit-learn.org/stable/modules/generated/sklearn.cluster.KMeans.html), для ознайомлення з тим як працювати в умовах коли кількість кластерів невідома заздалегіть і немає вірних міток з позначками до якого кластеру відноситься спостереження пропонується використати метод [Elbow](https://coderoad.ru/19197715/Scikit-Learn-K-Means-Elbow-criterion) (додаткові джерела: [article_1](https://medium.com/analytics-vidhya/elbow-method-of-k-means-clustering-algorithm-a0c916adc540#:~:text=K%2Dmeans%20clustering%20is%20an,cluster%20with%20the%20nearest%20centroid.), [article_2](https://www.geeksforgeeks.org/elbow-method-for-optimal-value-of-k-in-kmeans/))"
   ]
  },
  {
   "cell_type": "code",
   "execution_count": null,
   "metadata": {
    "id": "Y6I9Ixob4TSX"
   },
   "outputs": [],
   "source": [
    "X = customer_set.drop(['Gender'], axis=1)\n",
    "clusters = []\n",
    "\n",
    "#yourCode\n",
    "# ...\n",
    "# ...\n",
    "# ...\n",
    "    \n",
    "fig, ax = plt.subplots(figsize=(12, 8))\n",
    "sns.lineplot(x=list(range(1, 11)), y=clusters, ax=ax)\n",
    "ax.set_title('Searching for Elbow')\n",
    "ax.set_xlabel('Clusters')\n",
    "ax.set_ylabel('Inertia')\n",
    "\n",
    "\n",
    "plt.show()"
   ]
  },
  {
   "cell_type": "markdown",
   "metadata": {
    "id": "QFGZUntm4TSY"
   },
   "source": [
    "**Висновки з завдання 9 (детальні)** "
   ]
  },
  {
   "cell_type": "markdown",
   "metadata": {
    "id": "jzeEQGor4TSY"
   },
   "source": [
    "1.  Необхідно навести яка кількість кластерів на Вашу думку є оптимальною (краще розглянути для порівняння делька гіпотез про кількість кластерів)\n",
    "2.   \n",
    "3. ..."
   ]
  },
  {
   "cell_type": "markdown",
   "metadata": {
    "id": "bs-uzU2o4TSY"
   },
   "source": [
    "**Завдання 10** \n",
    "\n",
    "Зробити двовимірну візуалізацію кластеризації методу К-середніх на вибраних Вами двох різних кількостях кластерів використовуючи змінні `Income` та `SpendingScore`. "
   ]
  },
  {
   "cell_type": "code",
   "execution_count": null,
   "metadata": {
    "id": "084XFozG4TSY"
   },
   "outputs": [],
   "source": [
    "#yourCode"
   ]
  },
  {
   "cell_type": "markdown",
   "metadata": {
    "id": "OOCoaz_jBrm1"
   },
   "source": [
    "**Завдання 11** \n",
    "\n",
    "Зробити візуалізацію кластеризації методу К-середніх на вибраних Вами двох різних кількостях кластерів використовуючи [scatter_3d](https://plotly.com/python/3d-scatter-plots/)."
   ]
  },
  {
   "cell_type": "code",
   "execution_count": null,
   "metadata": {
    "id": "2HJY2prrCRRx"
   },
   "outputs": [],
   "source": [
    "#yourCode"
   ]
  },
  {
   "cell_type": "markdown",
   "metadata": {
    "id": "7zROiMqm4TSY"
   },
   "source": [
    "**Висновки з завдання 10 - 11 (детальні)** "
   ]
  },
  {
   "cell_type": "markdown",
   "metadata": {
    "id": "vLh4FNg94TSZ"
   },
   "source": [
    "1. Визначитась з отриманих візуалізацій яка кількість кластерів є оптимальною на Вашу думку і провести аналіз кластерів, що Ви отримали.\n",
    "2.   \n",
    "3. ..."
   ]
  },
  {
   "cell_type": "markdown",
   "metadata": {
    "id": "XTnWgdZu4TSZ"
   },
   "source": [
    "## Agglomerative clustering ##"
   ]
  },
  {
   "cell_type": "markdown",
   "metadata": {
    "id": "UxAf5wbD4TSZ"
   },
   "source": [
    "Розглянемо ще один підхід до кластеризації - [агломеративну ієрархічну кластеризацію](https://scikit-learn.org/stable/modules/generated/sklearn.cluster.AgglomerativeClustering.html)"
   ]
  },
  {
   "cell_type": "markdown",
   "metadata": {
    "id": "6cn1CLnx4TSZ"
   },
   "source": [
    "**Завдання 12** \n",
    "\n",
    "Кластеризуйте датасет за допомогою [агломеративної ієрархічнуої кластеризації](https://scikit-learn.org/stable/modules/generated/sklearn.cluster.AgglomerativeClustering.html)\n",
    "\n",
    "Мінімально необхідні параметри, що треба налаштувати:  \n",
    "* `n_clusters`: параметр, який відповідає за кільксіть кластерів на яку буде проведено розбиття вибірки;  \n",
    "* `linkage`: параметр зв’язку. Цей параметр визначає, яку відстань використовувати між наборами спостережень.\n",
    "* перевірте як працює цей метод з різними параметрами `linkage`  \n",
    "* після кожної зміни параметрів - візуалізувати розбиття на кластери\n",
    "\n",
    "Розрахувати матрицю відстаней для нашого набору даних:\n",
    "* за допомогою методу [hierarchy.linkage](https://docs.scipy.org/doc/scipy/reference/generated/scipy.cluster.hierarchy.linkage.html) і матриці відстаней кластеризувати дані з різними значеннями параметра `method`\n",
    "* за допомогою методу [hierarchy.dendrogram](https://docs.scipy.org/doc/scipy/reference/generated/scipy.cluster.hierarchy.dendrogram.html) візуалізувати отримані результати кластеризації у вигляді дендрограм\n"
   ]
  },
  {
   "cell_type": "code",
   "execution_count": null,
   "metadata": {
    "id": "zIAeX6C04TSZ"
   },
   "outputs": [],
   "source": [
    "#yourCode"
   ]
  },
  {
   "cell_type": "markdown",
   "metadata": {
    "id": "uIwG7UC5F74j"
   },
   "source": [
    "**Висновки з завдання 12 (детальні)**"
   ]
  },
  {
   "cell_type": "markdown",
   "metadata": {
    "id": "2PVDOFV_F74l"
   },
   "source": [
    "1. \n",
    "2.   \n",
    "3. ..."
   ]
  },
  {
   "cell_type": "markdown",
   "metadata": {
    "id": "1nWpSdH94TSZ"
   },
   "source": [
    "**Завдання 13** \n",
    "\n",
    "А тепер зробимо порівняльний аналіз отриманих результатів кластеризації розглянутими методами:  \n",
    "* В фінальних візуалізаціях треба використовувати **однакову** (на вашу думку оптимальну) кількість кластерів!!!  "
   ]
  },
  {
   "cell_type": "code",
   "execution_count": null,
   "metadata": {
    "id": "azRKTu3l4TSa"
   },
   "outputs": [],
   "source": [
    "#yourCode"
   ]
  },
  {
   "cell_type": "markdown",
   "metadata": {
    "id": "M33HoxiB4TSa"
   },
   "source": [
    "**Висновки з завдання 13 (детальні)**"
   ]
  },
  {
   "cell_type": "markdown",
   "metadata": {
    "id": "sXwJtmX04TSa"
   },
   "source": [
    "1. \n",
    "2.   \n",
    "3. ..."
   ]
  }
 ],
 "metadata": {
  "colab": {
   "collapsed_sections": [],
   "name": "Task6_Unsupervised.ipynb",
   "provenance": []
  },
  "kernelspec": {
   "display_name": "Python 3 (ipykernel)",
   "language": "python",
   "name": "python3"
  },
  "language_info": {
   "codemirror_mode": {
    "name": "ipython",
    "version": 3
   },
   "file_extension": ".py",
   "mimetype": "text/x-python",
   "name": "python",
   "nbconvert_exporter": "python",
   "pygments_lexer": "ipython3",
   "version": "3.10.2"
  }
 },
 "nbformat": 4,
 "nbformat_minor": 1
}
